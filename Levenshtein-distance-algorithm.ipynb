{
 "cells": [
  {
   "cell_type": "markdown",
   "id": "17b36f84",
   "metadata": {},
   "source": [
    "The Levenshtein (minimum edit) distance between two strings is the minimum number of single-character edits (i.e., insertions, deletions, and substitutions) needed to transform one string into the other. The Levenshtein distance algorithm is useful for solving problems in natural language processing such as approximate string matching or fuzzy string searching."
   ]
  },
  {
   "cell_type": "code",
   "execution_count": 167,
   "id": "095d4b34",
   "metadata": {},
   "outputs": [],
   "source": [
    "# Import modules\n",
    "import numpy as np\n",
    "import pandas as pd\n",
    "import Levenshtein as lev\n",
    "from pprint import pprint"
   ]
  },
  {
   "cell_type": "code",
   "execution_count": 168,
   "id": "3d77fa0f",
   "metadata": {},
   "outputs": [
    {
     "data": {
      "text/html": [
       "<div>\n",
       "<style scoped>\n",
       "    .dataframe tbody tr th:only-of-type {\n",
       "        vertical-align: middle;\n",
       "    }\n",
       "\n",
       "    .dataframe tbody tr th {\n",
       "        vertical-align: top;\n",
       "    }\n",
       "\n",
       "    .dataframe thead th {\n",
       "        text-align: right;\n",
       "    }\n",
       "</style>\n",
       "<table border=\"1\" class=\"dataframe\">\n",
       "  <thead>\n",
       "    <tr style=\"text-align: right;\">\n",
       "      <th></th>\n",
       "      <th>HUNDENAME</th>\n",
       "      <th>GEBURTSJAHR_HUND</th>\n",
       "      <th>GESCHLECHT_HUND</th>\n",
       "    </tr>\n",
       "  </thead>\n",
       "  <tbody>\n",
       "    <tr>\n",
       "      <th>0</th>\n",
       "      <td>Ituma</td>\n",
       "      <td>2011</td>\n",
       "      <td>w</td>\n",
       "    </tr>\n",
       "    <tr>\n",
       "      <th>1</th>\n",
       "      <td>\"Bo\" Bendy of Treegarden</td>\n",
       "      <td>2020</td>\n",
       "      <td>m</td>\n",
       "    </tr>\n",
       "    <tr>\n",
       "      <th>2</th>\n",
       "      <td>\"Bobby\" Lord Sinclair</td>\n",
       "      <td>2009</td>\n",
       "      <td>m</td>\n",
       "    </tr>\n",
       "    <tr>\n",
       "      <th>3</th>\n",
       "      <td>\"Buddy\" Fortheringhay's J.</td>\n",
       "      <td>2011</td>\n",
       "      <td>m</td>\n",
       "    </tr>\n",
       "    <tr>\n",
       "      <th>4</th>\n",
       "      <td>\"Fly\" Showring i fly for you</td>\n",
       "      <td>2015</td>\n",
       "      <td>w</td>\n",
       "    </tr>\n",
       "    <tr>\n",
       "      <th>5</th>\n",
       "      <td>\"Pino\" Ami du soleil</td>\n",
       "      <td>2010</td>\n",
       "      <td>m</td>\n",
       "    </tr>\n",
       "    <tr>\n",
       "      <th>6</th>\n",
       "      <td>\"Zappalla II\" Kora v. Tüfibach</td>\n",
       "      <td>2011</td>\n",
       "      <td>w</td>\n",
       "    </tr>\n",
       "    <tr>\n",
       "      <th>7</th>\n",
       "      <td>A great Dream Kajsa of Moss-La</td>\n",
       "      <td>2019</td>\n",
       "      <td>w</td>\n",
       "    </tr>\n",
       "    <tr>\n",
       "      <th>8</th>\n",
       "      <td>A-Diana</td>\n",
       "      <td>2006</td>\n",
       "      <td>w</td>\n",
       "    </tr>\n",
       "    <tr>\n",
       "      <th>9</th>\n",
       "      <td>AISHA von der Mark</td>\n",
       "      <td>2020</td>\n",
       "      <td>w</td>\n",
       "    </tr>\n",
       "  </tbody>\n",
       "</table>\n",
       "</div>"
      ],
      "text/plain": [
       "                        HUNDENAME  GEBURTSJAHR_HUND GESCHLECHT_HUND\n",
       "0                           Ituma              2011               w\n",
       "1        \"Bo\" Bendy of Treegarden              2020               m\n",
       "2           \"Bobby\" Lord Sinclair              2009               m\n",
       "3      \"Buddy\" Fortheringhay's J.              2011               m\n",
       "4    \"Fly\" Showring i fly for you              2015               w\n",
       "5            \"Pino\" Ami du soleil              2010               m\n",
       "6  \"Zappalla II\" Kora v. Tüfibach              2011               w\n",
       "7  A great Dream Kajsa of Moss-La              2019               w\n",
       "8                         A-Diana              2006               w\n",
       "9              AISHA von der Mark              2020               w"
      ]
     },
     "execution_count": 168,
     "metadata": {},
     "output_type": "execute_result"
    }
   ],
   "source": [
    "# Read CSV file into DataFrame\n",
    "df = pd.read_csv(\"20210103_hundenamen.csv\")\n",
    "df.head(10)"
   ]
  },
  {
   "cell_type": "code",
   "execution_count": 169,
   "id": "16049360",
   "metadata": {},
   "outputs": [],
   "source": [
    "dognames = df[\"HUNDENAME\"].to_numpy()"
   ]
  },
  {
   "cell_type": "code",
   "execution_count": 170,
   "id": "6f095671",
   "metadata": {},
   "outputs": [],
   "source": [
    "# Compute the Levenshtein distance between each dog name\n",
    "# and the name \"Luca\" using the Python Levenshtein package\n",
    "levZs = np.array([lev.distance(dogname, \"Luca\") for dogname in dognames])"
   ]
  },
  {
   "cell_type": "code",
   "execution_count": 171,
   "id": "21562d0c",
   "metadata": {},
   "outputs": [
    {
     "name": "stdout",
     "output_type": "stream",
     "text": [
      "The Levenshtein distance between any two strings in [Luca, Cuca, Lua, Luba, Lucas, Luce, Lucia, Lucy, Lula, Luma, Luna, Lupa, Yuca] is 1\n"
     ]
    }
   ],
   "source": [
    "# Find all dog names with a Levenshtein distance of 1\n",
    "dognames_oflevdist1 = np.unique(dognames[levZs == 1])\n",
    "print(\"The Levenshtein distance between any two strings in [Luca, {}] is 1\".format(\", \".join(dognames_oflevdist1)))"
   ]
  },
  {
   "cell_type": "code",
   "execution_count": 172,
   "id": "e5b6ac9d",
   "metadata": {},
   "outputs": [],
   "source": [
    "# Implement the Levenshtein distance algorithm\n",
    "def LevZ_algorithm(A, B, print_Emat=False):\n",
    "    # Create a matrix E(i, j) to hold the edit distances\n",
    "    # between the first i characters of the first string A\n",
    "    # and the first j characters of the second string B\n",
    "    E = np.zeros((len(A)+1, len(B)+1))\n",
    "    nrows = E.shape[0]\n",
    "    ncols = E.shape[1]\n",
    "    \n",
    "    # For each position i in the string A, and each position j in the string B,\n",
    "    # compute the edit distance between the two substrings as E(i, j)\n",
    "    E[0,:] = np.arange(ncols)\n",
    "    E[:,0] = np.arange(nrows)\n",
    "    for i in range(1, nrows):\n",
    "        for j in range(1, ncols):\n",
    "            E[i,j] = min(E[i-1,j] + 1, # cost of deletion\n",
    "                         E[i,j-1] + 1, # cost of insertion\n",
    "                         E[i-1,j-1] + int(A[i-1] != B[j-1])) # cost of substitution\n",
    "    \n",
    "    if print_Emat:\n",
    "        print(E)\n",
    "    \n",
    "    return E[i,j];"
   ]
  },
  {
   "cell_type": "code",
   "execution_count": 173,
   "id": "969784b3",
   "metadata": {},
   "outputs": [
    {
     "name": "stdout",
     "output_type": "stream",
     "text": [
      "Our homemade Levenshtein distance algorithm gets 0 edit distances wrong\n"
     ]
    }
   ],
   "source": [
    "# Compute the Levenshtein distance between each dog name\n",
    "# and the name \"Luca\" using our homemade algorithm\n",
    "levZs_check = np.array([LevZ_algorithm(dogname, \"Luca\") for dogname in dognames])\n",
    "print(\"Our homemade Levenshtein distance algorithm gets {} edit distances wrong\".format(sum(levZs != levZs_check)))"
   ]
  },
  {
   "cell_type": "code",
   "execution_count": 174,
   "id": "523a2ff8",
   "metadata": {},
   "outputs": [
    {
     "name": "stdout",
     "output_type": "stream",
     "text": [
      "[[0. 1. 2. 3. 4.]\n",
      " [1. 0. 1. 2. 3.]\n",
      " [2. 1. 0. 1. 2.]\n",
      " [3. 2. 1. 0. 1.]\n",
      " [4. 3. 2. 1. 1.]]\n"
     ]
    }
   ],
   "source": [
    "# Visualize the edit distance matrix for two strings, \"Luca\" and \"Lucy\"\n",
    "_ = LevZ_algorithm(\"Luca\", \"Lucy\", print_Emat=True)"
   ]
  },
  {
   "cell_type": "code",
   "execution_count": null,
   "id": "ba02ae9d",
   "metadata": {},
   "outputs": [],
   "source": []
  }
 ],
 "metadata": {
  "kernelspec": {
   "display_name": "Python 3",
   "language": "python",
   "name": "python3"
  },
  "language_info": {
   "codemirror_mode": {
    "name": "ipython",
    "version": 3
   },
   "file_extension": ".py",
   "mimetype": "text/x-python",
   "name": "python",
   "nbconvert_exporter": "python",
   "pygments_lexer": "ipython3",
   "version": "3.7.10"
  }
 },
 "nbformat": 4,
 "nbformat_minor": 5
}
